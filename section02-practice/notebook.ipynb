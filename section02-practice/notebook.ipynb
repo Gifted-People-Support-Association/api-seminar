{
 "cells": [
  {
   "cell_type": "markdown",
   "id": "54b2c5ea",
   "metadata": {},
   "source": [
    "# 続編：APIを使ってみよう！〜準備と実践編〜（ハンズオン用）"
   ]
  },
  {
   "cell_type": "markdown",
   "id": "128ca290",
   "metadata": {},
   "source": [
    "## APIキーの取得と設定"
   ]
  },
  {
   "cell_type": "markdown",
   "id": "9f4a1d82",
   "metadata": {},
   "source": [
    "### Gemini API のキー取得\n",
    "GeminiのAPIを呼び出すには、APIキーが必要です。Google AI Studioで発行したAPIキーを、Google Colabのシークレット機能を使って安全に管理します。"
   ]
  },
  {
   "cell_type": "markdown",
   "id": "22da8754",
   "metadata": {},
   "source": [
    "APIキーが正しく設定されていることを確認します。"
   ]
  },
  {
   "cell_type": "code",
   "execution_count": null,
   "id": "1355b0a9",
   "metadata": {},
   "outputs": [],
   "source": [
    "import os\n",
    "from google.colab import userdata\n",
    "\n",
    "# シークレットからAPIキーを取得\n",
    "api_key = userdata.get(\"GOOGLE_API_KEY\")\n",
    "\n",
    "# 環境変数に設定\n",
    "os.environ[\"GOOGLE_API_KEY\"] = api_key\n",
    "\n",
    "# 確認（キー自体は表示しない）\n",
    "if api_key:\n",
    "    print(\"✅ APIキーの設定が完了しました。\")\n",
    "    print(f\"キーの先頭: {api_key[:10]}...\")\n",
    "else:\n",
    "    print(\"❌ エラー: APIキーが設定されていません。\")"
   ]
  },
  {
   "cell_type": "markdown",
   "id": "9b7490bc",
   "metadata": {},
   "source": [
    "APIキーが正しく動作するか、簡単なテストを行います。"
   ]
  },
  {
   "cell_type": "code",
   "execution_count": null,
   "id": "a43eb622",
   "metadata": {},
   "outputs": [],
   "source": [
    "from google import genai\n",
    "\n",
    "# クライアントの初期化\n",
    "client = genai.Client()\n",
    "\n",
    "# テストリクエスト\n",
    "response = client.models.generate_content(\n",
    "    model=\"gemini-2.0-flash\", contents=\"こんにちは！\"\n",
    ")\n",
    "\n",
    "print(\"--- Gemini APIからの応答 ---\")\n",
    "print(response.text)\n",
    "print(\"---------------------------\")"
   ]
  },
  {
   "cell_type": "markdown",
   "id": "b3cd4838",
   "metadata": {},
   "source": [
    "### OpenWeatherMap API のキー取得\n",
    "OpenWeatherMapは、世界中の天気情報を提供する無料のAPIサービスです。 例 2: 天気予報 API（データ取得と処理）　のセクションで使用します。"
   ]
  },
  {
   "cell_type": "markdown",
   "id": "e8a4e352",
   "metadata": {},
   "source": [
    "APIキーが正しく設定されていることを確認します。"
   ]
  },
  {
   "cell_type": "code",
   "execution_count": null,
   "id": "2409aa17",
   "metadata": {},
   "outputs": [],
   "source": [
    "from google.colab import userdata\n",
    "import os\n",
    "\n",
    "# Colabの秘密鍵機能から取得\n",
    "api_key = userdata.get(\"WEATHER_API_KEY\")\n",
    "os.environ[\"WEATHER_API_KEY\"] = api_key"
   ]
  },
  {
   "cell_type": "markdown",
   "id": "1af50333",
   "metadata": {},
   "source": [
    "正しく天気情報が取得できることを確認します。"
   ]
  },
  {
   "cell_type": "code",
   "execution_count": null,
   "id": "82dbeff3",
   "metadata": {},
   "outputs": [],
   "source": [
    "import requests\n",
    "import os\n",
    "\n",
    "API_KEY = os.environ.get(\"WEATHER_API_KEY\")\n",
    "if not API_KEY:\n",
    "    print(\"エラー: APIキーが設定されていません。\")\n",
    "    exit()\n",
    "\n",
    "url = f\"http://api.openweathermap.org/data/2.5/weather?q=Tokyo&appid={API_KEY}&units=metric&lang=ja\"\n",
    "response = requests.get(url)\n",
    "\n",
    "if response.status_code == 200:\n",
    "    print(\"✅ API接続成功！\")\n",
    "    data = response.json()\n",
    "    print(f\"都市: {data['name']}\")\n",
    "    print(f\"気温: {data['main']['temp']}℃\")\n",
    "else:\n",
    "    print(f\"❌ エラー: {response.status_code}\")\n",
    "    print(response.text)"
   ]
  },
  {
   "cell_type": "markdown",
   "id": "85084ec6",
   "metadata": {},
   "source": [
    "## プログラムからのAPI使用例"
   ]
  },
  {
   "cell_type": "markdown",
   "id": "eee24830",
   "metadata": {},
   "source": [
    "### 1: Gemini API（AI機能の利用 - 基本版）\n",
    "- API クライアント：requestsライブラリ\n",
    "- モデル名：gemini-2.5-flash"
   ]
  },
  {
   "cell_type": "code",
   "execution_count": null,
   "id": "8cb34c26",
   "metadata": {},
   "outputs": [
    {
     "name": "stdout",
     "output_type": "stream",
     "text": [
      "APIにリクエストを送信中...\n",
      "\n",
      "--- AIからの応答 ---\n",
      "ウェブAPIは、インターネットを通じて他のコンピューターと「おしゃべり」するための「窓口」のようなものです。\n",
      "\n",
      "例えば、レストランで料理を注文するとき、メニューを見て、ウェイターに注文を伝えますよね？\n",
      "\n",
      "ウェブAPIは、メニューが「どんな情報がもらえるか、どんなお願いができるか」を示し、ウェイターが「情報をやり取りする役目」を果たします。\n",
      "\n",
      "だから、アプリやウェブサイトは、ウェブAPIを使って、天気予報や地図、お店の情報などを、他のコンピューターから簡単にもらうことができるんです。\n",
      "\n",
      "--------------------\n"
     ]
    }
   ],
   "source": [
    "import requests\n",
    "import json\n",
    "import os  # 環境変数からキーを読み込むために使用\n",
    "\n",
    "# 1. 準備：APIキーとエンドポイントを定義\n",
    "# (Colab環境の場合、os.environ['GEMINI_API_KEY']にキーが設定されている前提)\n",
    "API_KEY = os.environ.get(\"GEMINI_API_KEY\")\n",
    "if not API_KEY:\n",
    "    print(\"エラー: GEMINI_API_KEYが設定されていません。\")\n",
    "    # ここでは実行せずに終了\n",
    "    exit()\n",
    "\n",
    "ENDPOINT = \"https://generativelanguage.googleapis.com/v1beta/models/gemini-2.5-flash:generateContent\"\n",
    "\n",
    "# 2. キー設定：ヘッダーに認証情報を組み込む\n",
    "HEADERS = {\"Content-Type\": \"application/json\"}\n",
    "# APIキーはURLのクエリパラメータとして渡す\n",
    "URL = f\"{ENDPOINT}?key={API_KEY}\"\n",
    "\n",
    "# 3. データ準備：質問文をJSON形式の注文データとして作成\n",
    "PROMPT = \"Web APIとは何か、小学生にもわかるように簡潔に説明してください。\"\n",
    "\n",
    "PAYLOAD = {\"contents\": [{\"parts\": [{\"text\": PROMPT}]}]}\n",
    "\n",
    "# 4. リクエスト送信：POSTメソッドでヘッダーと注文データ(本文)を添えて送信\n",
    "print(\"APIにリクエストを送信中...\")\n",
    "response = requests.post(\n",
    "    URL, headers=HEADERS, data=json.dumps(PAYLOAD)  # Pythonの辞書をJSON文字列に変換\n",
    ")\n",
    "\n",
    "# 5. 結果抽出：応答の処理\n",
    "if response.status_code == 200:\n",
    "    data = response.json()\n",
    "\n",
    "    # 複雑なJSON構造からテキスト部分を抽出\n",
    "    try:\n",
    "        generated_text = data[\"candidates\"][0][\"content\"][\"parts\"][0][\"text\"]\n",
    "        print(\"\\n--- AIからの応答 ---\")\n",
    "        print(generated_text)\n",
    "        print(\"--------------------\")\n",
    "    except (KeyError, IndexError):\n",
    "        print(\n",
    "            \"\\nエラー: JSON構造からテキストを抽出できませんでした。応答を確認してください。\"\n",
    "        )\n",
    "        # デバッグ用にJSON全体を表示しても良い\n",
    "        # print(json.dumps(data, indent=2))\n",
    "else:\n",
    "    print(f\"\\nエラーが発生しました。ステータスコード: {response.status_code}\")\n",
    "    print(\"エラーメッセージ:\", response.text)"
   ]
  },
  {
   "cell_type": "markdown",
   "id": "631b7b83",
   "metadata": {},
   "source": [
    "### 2: 天気予報 API（OpenWeatherMap） を使用して実際の天気データを取得する\n",
    "- API クライアント：requestsライブラリ\n",
    "- エンドポイント：http://api.openweathermap.org/data/2.5/weather"
   ]
  },
  {
   "cell_type": "code",
   "execution_count": null,
   "id": "3abbdbc4",
   "metadata": {},
   "outputs": [],
   "source": [
    "import requests\n",
    "import json\n",
    "import os\n",
    "\n",
    "API_KEY_WEATHER = os.environ.get(\"WEATHER_API_KEY\")\n",
    "if not API_KEY_WEATHER:\n",
    "    print(\"エラー: APIキーが設定されていません。\")\n",
    "    exit()\n",
    "\n",
    "CITY_NAME = \"Tokyo\"\n",
    "URL_BASE = \"http://api.openweathermap.org/data/2.5/weather\"\n",
    "\n",
    "# 1. URL組み立て: パラメータを辞書で定義\n",
    "params = {\n",
    "    \"q\": CITY_NAME,\n",
    "    \"appid\": API_KEY_WEATHER,\n",
    "    \"units\": \"metric\",  # 温度を摂氏(℃)で取得するよう指定 (APIによって異なります)\n",
    "    \"lang\": \"ja\",  # 日本語で取得するよう指定\n",
    "}\n",
    "\n",
    "print(f\"APIにリクエストを送信中... (都市: {CITY_NAME})\")\n",
    "\n",
    "# 2. リクエスト送信: requests.get() を使ってURLとパラメータを送信\n",
    "# requestsライブラリがパラメータを自動でURLに組み込んでくれます\n",
    "try:\n",
    "    response = requests.get(URL_BASE, params=params)\n",
    "    response.raise_for_status()  # HTTPエラーが発生した場合に例外を発生させる\n",
    "\n",
    "    # 3. データ解析: JSONデータを読み込む\n",
    "    data = response.json()\n",
    "\n",
    "    # 4. データ抽出と表示: JSONデータから必要な情報を取り出す\n",
    "    temp_celsius = data[\"main\"][\"temp\"]  # main > temp のラベルを辿る\n",
    "    weather_desc = data[\"weather\"][0][\n",
    "        \"description\"\n",
    "    ]  # weather (リストの0番目) > description を辿る\n",
    "\n",
    "    print(\"\\n--- 天気予報 APIからの応答 ---\")\n",
    "    print(f\"都市: {data['name']}\")\n",
    "    print(f\"天気: {weather_desc}\")\n",
    "    print(f\"現在の気温: {temp_celsius:.1f} ℃\")\n",
    "    print(\"------------------------------\")\n",
    "\n",
    "except requests.exceptions.RequestException as e:\n",
    "    print(f\"\\nエラー: APIアクセス中に問題が発生しました。キーやURLを確認してください。\")\n",
    "    print(f\"詳細: {e}\")\n",
    "except KeyError:\n",
    "    print(\"\\nエラー: 応答JSONの形式が想定と異なります。データ構造を確認してください。\")"
   ]
  }
 ],
 "metadata": {
  "kernelspec": {
   "display_name": "api-seminar",
   "language": "python",
   "name": "python3"
  },
  "language_info": {
   "codemirror_mode": {
    "name": "ipython",
    "version": 3
   },
   "file_extension": ".py",
   "mimetype": "text/x-python",
   "name": "python",
   "nbconvert_exporter": "python",
   "pygments_lexer": "ipython3",
   "version": "3.13.1"
  }
 },
 "nbformat": 4,
 "nbformat_minor": 5
}
